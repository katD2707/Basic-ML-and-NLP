{
 "cells": [
  {
   "cell_type": "code",
   "execution_count": 1,
   "id": "21afff44",
   "metadata": {},
   "outputs": [],
   "source": [
    "with open('D:/Programming/Machine learning/Exercises/datasets/W2V/20news-train-raw.txt') as f:\n",
    "    contents_train = [(content.split('<fff>')[0], \\\n",
    "                 content.split('<fff>')[1], \\\n",
    "                 content.split('<fff>')[2] \\\n",
    "                ) for content in f.read().splitlines()]\n",
    "\n",
    "with open('D:/Programming/Machine learning/Exercises/datasets/W2V/20news-test-raw.txt') as f:\n",
    "    contents_test = [(content.split('<fff>')[0], \\\n",
    "                 content.split('<fff>')[1], \\\n",
    "                 content.split('<fff>')[2] \\\n",
    "                ) for content in f.read().splitlines()]\n",
    "                \n",
    "with open('D:/Programming/Machine learning/Exercises/datasets/W2V/vocab-raw.txt') as f:\n",
    "    vocab = f.read().splitlines()\n"
   ]
  },
  {
   "cell_type": "code",
   "execution_count": 3,
   "id": "0c2cc18d",
   "metadata": {},
   "outputs": [],
   "source": [
    "word2id = dict([(word, index+2) for (index, word) in enumerate(vocab)])\n",
    "word2id['PAD'] = 1\n"
   ]
  },
  {
   "cell_type": "code",
   "execution_count": 4,
   "id": "023e19ba",
   "metadata": {},
   "outputs": [],
   "source": [
    "id2word = {index: word for word, index in word2id.items()}"
   ]
  },
  {
   "cell_type": "code",
   "execution_count": 5,
   "id": "52e621b0",
   "metadata": {},
   "outputs": [
    {
     "name": "stdout",
     "output_type": "stream",
     "text": [
      "11314\n",
      "7532\n"
     ]
    }
   ],
   "source": [
    "def encoded(contents):\n",
    "  SENT_LENGTH = 500\n",
    "  norm_bible = [(label, doc_id, len(words.split()[:500]), words.split()[:SENT_LENGTH] ) for label, doc_id, words in contents]\n",
    "\n",
    "  encoded_data = ['<fff>'.join([label, doc_id, str(len_words), \n",
    "                  ' '.join([str(word2id[w]) if w in word2id.keys() \n",
    "                                            else '1' for w in words[:len_words]]+['0']*(SENT_LENGTH-len_words))])\n",
    "                                              for label, doc_id, len_words, words in norm_bible]\n",
    "  return encoded_data\n",
    "encoded_train_data = encoded(contents_train)\n",
    "encoded_test_data = encoded(contents_test)\n",
    "print(len(encoded_train_data))\n",
    "print(len(encoded_test_data))\n"
   ]
  },
  {
   "cell_type": "code",
   "execution_count": 23,
   "id": "2dad72a0",
   "metadata": {},
   "outputs": [],
   "source": [
    "with open('20news-train-encoded-v2.txt', 'w') as f:\n",
    "    f.write('\\n'.join(encoded_train_data))\n",
    "with open('20news-test-encoded-v2.txt', 'w') as f:\n",
    "    f.write('\\n'.join(encoded_test_data))"
   ]
  }
 ],
 "metadata": {
  "kernelspec": {
   "display_name": "Python 3 (ipykernel)",
   "language": "python",
   "name": "python3"
  },
  "language_info": {
   "codemirror_mode": {
    "name": "ipython",
    "version": 3
   },
   "file_extension": ".py",
   "mimetype": "text/x-python",
   "name": "python",
   "nbconvert_exporter": "python",
   "pygments_lexer": "ipython3",
   "version": "3.9.5"
  }
 },
 "nbformat": 4,
 "nbformat_minor": 5
}
